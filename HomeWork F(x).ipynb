{
 "cells": [
  {
   "cell_type": "markdown",
   "id": "850b8cac",
   "metadata": {},
   "source": [
    "f(x) = 0.6x^3+5.5x^2+10x -5 \n",
    "\n",
    "Определить корни +\n",
    "\n",
    "Найти интервалы, на которых функция возрастает +\n",
    "\n",
    "Найти интервалы, на которых функция убывает +\n",
    "\n",
    "Построить график +\n",
    "\n",
    "Вычислить вершину +\n",
    "\n",
    "Определить промежутки, на котором f > 0 +\n",
    "\n",
    "Определить промежутки, на котором f < 0 +"
   ]
  },
  {
   "cell_type": "code",
   "execution_count": 26,
   "id": "a524e546",
   "metadata": {
    "scrolled": true
   },
   "outputs": [
    {
     "name": "stdout",
     "output_type": "stream",
     "text": [
      "Корень x1 =  -6.32174537314726\n",
      "Корень x2 =  -3.25046383307744\n",
      "Корень x3 =  0.405542539558034\n"
     ]
    },
    {
     "data": {
      "image/png": "[encoded data removed]",
      "text/plain": [
       "<Figure size 640x480 with 1 Axes>"
      ]
     },
     "metadata": {},
     "output_type": "display_data"
    },
    {
     "name": "stdout",
     "output_type": "stream",
     "text": [
      "Вершина 1 = 7.5\n",
      "Вершина 2 = -10.1440329213786\n",
      "Функция убывает от 7.5 до -10.1440329213786\n",
      "Функция возрастает от -10.1440329213786 до +∞\n",
      "Функция положительна от -6.32174537314726 до -3.25046383307744\n",
      "Функция отрицательна от -3.25046383307744 до 0.405542539558034\n"
     ]
    }
   ],
   "source": [
    "from sympy import *\n",
    "import sympy as sp\n",
    "from sympy.plotting import plot\n",
    "x = sp.Symbol('x')\n",
    "f = 0.6*x**3 + 5.5*x**2 + 10*x-5\n",
    "x1,x2,x3 = solveset(f,x)\n",
    "print('Корень x1 = ',x1)\n",
    "print('Корень x2 = ',x2)\n",
    "print('Корень x3 = ',x3)\n",
    "sp.plot(f,xlim=[-10,10],ylim=[-15,15])\n",
    "\n",
    "\n",
    "x = Symbol('x')\n",
    "y = 0.6*x**3 + 5.5*x**2 + 10*x-5\n",
    "yprime = y.diff(x)\n",
    "f = yprime\n",
    "# print('Производная от функции = ',yprime)\n",
    "\n",
    "\n",
    "x = Symbol('x')\n",
    "f = yprime\n",
    "solveset(f,x)\n",
    "\n",
    "\n",
    "f = 0.6*x**3 + 5.5*x**2 + 10*x-5\n",
    "xp1 = -5\n",
    "xp2 = -1.1111\n",
    "x,y = symbols('x,y')\n",
    "f1 = 0.6*xp1**3 + 5.5*xp1**2 + 10*xp1-5\n",
    "f2 = 0.6*xp2**3 + 5.5*xp2**2 + 10*xp2-5\n",
    "print('Вершина 1 = {}'.format(f1))\n",
    "print('Вершина 2 = {}'.format(f2))\n",
    "print(f'Функция убывает от {f1} до {f2}')\n",
    "print(f'Функция возрастает от {f2} до +∞')\n",
    "print(f'Функция положительна от {x1} до {x2}')\n",
    "print(f'Функция отрицательна от {x2} до {x3}')\n"
   ]
  },
  {
   "cell_type": "code",
   "execution_count": 29,
   "id": "ba88fb4f",
   "metadata": {},
   "outputs": [
    {
     "name": "stdout",
     "output_type": "stream",
     "text": [
      "Reinitialized existing Git repository in /Users/eruslanovandrey/Desktop/JupyterNoteBook/.git/\r\n"
     ]
    }
   ],
   "source": [
    "!git init\n"
   ]
  },
  {
   "cell_type": "code",
   "execution_count": 30,
   "id": "7438e872",
   "metadata": {},
   "outputs": [
    {
     "name": "stdout",
     "output_type": "stream",
     "text": [
      "On branch master\r\n",
      "\r\n",
      "No commits yet\r\n",
      "\r\n",
      "Untracked files:\r\n",
      "  (use \"git add <file>...\" to include in what will be committed)\r\n",
      "\t\u001b[31m.ipynb_checkpoints/\u001b[m\r\n",
      "\t\u001b[31mFirst Jupyter NoteBook.ipynb\u001b[m\r\n",
      "\t\u001b[31mHome work f(x) = 0.6x^3+5.5x^2+10x -5 .ipynb\u001b[m\r\n",
      "\t\u001b[31mHomeWork F(x).ipynb\u001b[m\r\n",
      "\t\u001b[31m\"\\320\\237\\320\\265\\321\\200\\320\\262\\321\\213\\320\\271 \\321\\203\\321\\200\\320\\276\\320\\272 \\320\\277\\320\\276 Jupyter.ipynb\"\u001b[m\r\n",
      "\t\u001b[31m\"\\320\\241\\320\\275\\320\\270\\320\\274\\320\\276\\320\\272 \\321\\215\\320\\272\\321\\200\\320\\260\\320\\275\\320\\260 2023-01-13 \\320\\262 11.28.12.png\"\u001b[m\r\n",
      "\t\u001b[31m\"\\320\\241\\320\\275\\320\\270\\320\\274\\320\\276\\320\\272 \\321\\215\\320\\272\\321\\200\\320\\260\\320\\275\\320\\260 2023-01-13 \\320\\262 12.07.34.png\"\u001b[m\r\n",
      "\r\n",
      "nothing added to commit but untracked files present (use \"git add\" to track)\r\n"
     ]
    }
   ],
   "source": [
    "!git status"
   ]
  },
  {
   "cell_type": "code",
   "execution_count": 35,
   "id": "d12664e4",
   "metadata": {},
   "outputs": [
    {
     "ename": "SyntaxError",
     "evalue": "invalid syntax (952727468.py, line 1)",
     "output_type": "error",
     "traceback": [
      "\u001b[0;36m  File \u001b[0;32m\"/var/folders/j5/9fp95b3j6ks4mjqv4m8pldw80000gn/T/ipykernel_18415/952727468.py\"\u001b[0;36m, line \u001b[0;32m1\u001b[0m\n\u001b[0;31m    git add http://localhost:8888/notebooks/Desktop/JupyterNoteBook/HomeWork%20F(x).ipynb#\u001b[0m\n\u001b[0m        ^\u001b[0m\n\u001b[0;31mSyntaxError\u001b[0m\u001b[0;31m:\u001b[0m invalid syntax\n"
     ]
    }
   ],
   "source": [
    "git add http://localhost:8888/notebooks/Desktop/JupyterNoteBook/HomeWork%20F(x).ipynb#"
   ]
  },
  {
   "cell_type": "code",
   "execution_count": null,
   "id": "8a5653fd",
   "metadata": {},
   "outputs": [],
   "source": []
  },
  {
   "cell_type": "code",
   "execution_count": 34,
   "id": "4cba89b2",
   "metadata": {},
   "outputs": [
    {
     "name": "stdout",
     "output_type": "stream",
     "text": [
      "zsh:1: no matches found: F(x)\r\n"
     ]
    }
   ],
   "source": [
    "!git add HomeWork F(x)\n",
    "\n"
   ]
  },
  {
   "cell_type": "code",
   "execution_count": 36,
   "id": "24da0091",
   "metadata": {},
   "outputs": [
    {
     "name": "stdout",
     "output_type": "stream",
     "text": [
      "zsh:1: no matches found: F(x)\r\n"
     ]
    }
   ],
   "source": [
    "!git add . HomeWork F(x)\n"
   ]
  },
  {
   "cell_type": "code",
   "execution_count": null,
   "id": "64895b75",
   "metadata": {},
   "outputs": [],
   "source": []
  },
  {
   "cell_type": "code",
   "execution_count": null,
   "id": "ea5cda4e",
   "metadata": {},
   "outputs": [],
   "source": []
  },
  {
   "cell_type": "code",
   "execution_count": null,
   "id": "95338608",
   "metadata": {},
   "outputs": [],
   "source": []
  }
 ],
 "metadata": {
  "kernelspec": {
   "display_name": "Python 3 (ipykernel)",
   "language": "python",
   "name": "python3"
  },
  "language_info": {
   "codemirror_mode": {
    "name": "ipython",
    "version": 3
   },
   "file_extension": ".py",
   "mimetype": "text/x-python",
   "name": "python",
   "nbconvert_exporter": "python",
   "pygments_lexer": "ipython3",
   "version": "3.9.13"
  }
 },
 "nbformat": 4,
 "nbformat_minor": 5
}
